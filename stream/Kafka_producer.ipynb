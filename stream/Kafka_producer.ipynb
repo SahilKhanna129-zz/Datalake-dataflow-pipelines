{
 "cells": [
  {
   "cell_type": "code",
   "execution_count": 8,
   "metadata": {},
   "outputs": [],
   "source": [
    "import json\n",
    "import tweepy\n",
    "import time\n",
    "import configparser\n",
    "from datetime import datetime\n",
    "from kafka import KafkaProducer\n",
    "from kafka.errors import KafkaError"
   ]
  },
  {
   "cell_type": "code",
   "execution_count": 24,
   "metadata": {},
   "outputs": [
    {
     "name": "stdout",
     "output_type": "stream",
     "text": [
      "RT @airlivenet: ALERT Two Air Algeria pilots suspended for letting a child handle a plane in flight https://t.co/LzlMMw7WT5 https://t.co/1P…\n",
      "'KafkaProducer' object is not callable\n"
     ]
    }
   ],
   "source": [
    "class TweeterStreamListener(tweepy.StreamListener):\n",
    "    \n",
    "    def __init__(self, api):\n",
    "        self.api = api\n",
    "        super(tweepy.StreamListener, self).__init__()\n",
    "        self.producer = KafkaProducer(bootstrap_servers='ip-172-31-31-133.ec2.internal:6667', value_serializer=lambda v: json.dumps(v))\n",
    "        self.tweets = []\n",
    "\n",
    "    def on_data(self, data):\n",
    "        msg = json.loads(data)[u'text']\n",
    "        print(msg)\n",
    "        try:\n",
    "            self.producer('twitter', msg)\n",
    "            self.producer.flush()\n",
    "        except KafkaError:\n",
    "            log.exception()\n",
    "            pass\n",
    "        except Exception as e:\n",
    "            print(e)\n",
    "            return False\n",
    "        return True\n",
    "\n",
    "    def on_error(self, status_code):\n",
    "        if status_code == 420:\n",
    "            #returning False in on_data disconnects the stream\n",
    "            return False\n",
    "        print(\"Error received in kafka producer\")\n",
    "        print(status_code)\n",
    "        return True\n",
    "\n",
    "    def on_timeout(self):\n",
    "        return True \n",
    "    \n",
    "if __name__ == '__main__':\n",
    "\n",
    "    # Get the authorization keys\n",
    "    config = configparser.ConfigParser()\n",
    "    config.read_file(open('/home/ec2-user/datapipeline/stream/twitter-app-credentials'))\n",
    "    #consumer_key = config.defaults()['consumerkey']\n",
    "    consumer_key = 'z5lTf3sAbJDjGnGFsRFcvv1MK'\n",
    "    consumer_secret = 'HbXFtsDHCuFllDI2MBhxjUThK0Yv96JuPzn3lf3aHmVNpZCI0V'\n",
    "    access_key = '852055580361588736-vN0Fn0AjT7zCnRZ4Ljj7pQc4r06dtGd'\n",
    "    access_secret = 'JZlVDeK9PDJhlj0ndJrDGLoYD9q4JmtZBBmZsLFYEE1V7'\n",
    "    #consumer_secret = config.defaults()['consumersecret']\n",
    "    #access_key = config.defaults()['accesstoken']\n",
    "    #access_secret = config.defaults()['accesstokensecret']\n",
    "\n",
    "    # Call twitter api using Tweepy\n",
    "    auth = tweepy.OAuthHandler(consumer_key, consumer_secret)\n",
    "    auth.set_access_token(access_key, access_secret)\n",
    "    api = tweepy.API(auth)\n",
    "        \n",
    "    # Start listening\n",
    "    listener_twitter = TweeterStreamListener(api)\n",
    "    stream = tweepy.Stream(auth, listener = listener_twitter)\n",
    "    \n",
    "    # Filter tweets\n",
    "    stream.filter(track=['flight', 'aviation'], languages = ['en'], async=True)"
   ]
  }
 ],
 "metadata": {
  "kernelspec": {
   "display_name": "Python 3",
   "language": "python",
   "name": "python3"
  },
  "language_info": {
   "codemirror_mode": {
    "name": "ipython",
    "version": 3
   },
   "file_extension": ".py",
   "mimetype": "text/x-python",
   "name": "python",
   "nbconvert_exporter": "python",
   "pygments_lexer": "ipython3",
   "version": "3.6.2"
  }
 },
 "nbformat": 4,
 "nbformat_minor": 2
}

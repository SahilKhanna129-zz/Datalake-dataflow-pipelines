{
 "cells": [
  {
   "cell_type": "code",
   "execution_count": 4,
   "metadata": {
    "collapsed": true
   },
   "outputs": [],
   "source": [
    "from kafka import KafkaConsumer\n",
    "import json\n",
    "from textblob import TextBlob\n",
    "import matplotlib.pyplot as plt"
   ]
  },
  {
   "cell_type": "code",
   "execution_count": 14,
   "metadata": {},
   "outputs": [
    {
     "data": {
      "image/png": "[encoded data removed]",
      "text/plain": [
       "<matplotlib.figure.Figure at 0x7f99bdc10668>"
      ]
     },
     "metadata": {},
     "output_type": "display_data"
    }
   ],
   "source": [
    "KAFKA_HOST = 'ip-172-31-31-133.ec2.internal:6667'\n",
    "TOPIC = 'twitter'\n",
    "\n",
    "def getTweets():\n",
    "    consumer = KafkaConsumer(TOPIC, bootstrap_servers=[KAFKA_HOST], consumer_timeout_ms=100000)\n",
    "    #f = open('tweet.json', 'w')\n",
    "    #for message in consumer:\n",
    "        #tweet = message.value.decode('utf-8')\n",
    "        #print(tweet)\n",
    "        #json.dump(tweet, f)\n",
    "        #f.write(str(tweet))\n",
    "    #f.close()\n",
    "    count = 0\n",
    "    for message in consumer:\n",
    "        tweet = message.value.decode('utf-8')\n",
    "        tweet_prop = TextBlob(tweet)\n",
    "        polarity = tweet_prop.sentiment.polarity\n",
    "        #print(polarity)\n",
    "        positive = 0\n",
    "        negative = 0\n",
    "        neutral = 0\n",
    "        if polarity > 0:\n",
    "            positive += 1\n",
    "        elif polarity == 0:\n",
    "            neutral += 1\n",
    "        else:\n",
    "            negative += 1\n",
    "        count += 1\n",
    "        if count == 10:\n",
    "            plt.hist([positive, neutral, negative], 5, normed=1, facecolor='green', alpha=0.75)\n",
    "            plt.show()\n",
    "            break\n",
    "    \n",
    "if __name__ == '__main__':\n",
    "    getTweets()"
   ]
  }
 ],
 "metadata": {
  "kernelspec": {
   "display_name": "Python 3",
   "language": "python",
   "name": "python3"
  },
  "language_info": {
   "codemirror_mode": {
    "name": "ipython",
    "version": 3
   },
   "file_extension": ".py",
   "mimetype": "text/x-python",
   "name": "python",
   "nbconvert_exporter": "python",
   "pygments_lexer": "ipython3",
   "version": "3.6.2"
  }
 },
 "nbformat": 4,
 "nbformat_minor": 2
}

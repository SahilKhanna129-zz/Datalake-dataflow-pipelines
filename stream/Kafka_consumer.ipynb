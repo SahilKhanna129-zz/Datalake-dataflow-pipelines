{
 "cells": [
  {
   "cell_type": "code",
   "execution_count": 1,
   "metadata": {},
   "outputs": [],
   "source": [
    "from kafka import KafkaConsumer\n",
    "import json"
   ]
  },
  {
   "cell_type": "code",
   "execution_count": 2,
   "metadata": {
    "collapsed": true
   },
   "outputs": [],
   "source": [
    "KAFKA_HOST = 'ip-172-31-31-133.ec2.internal:6667'\n",
    "TOPIC = 'demo'\n",
    "\n",
    "def getTweets():\n",
    "    consumer = KafkaConsumer(TOPIC, bootstrap_servers=[KAFKA_HOST], consumer_timeout_ms=100000)\n",
    "    f = open('tweet.json', 'w')\n",
    "    for message in consumer:\n",
    "        tweet = message.value.decode('utf-8')\n",
    "        print(tweet)\n",
    "        json.dump(tweet, f)\n",
    "    f.close()\n",
    "    \n",
    "if __name__ == '__main__':\n",
    "    getTweets()"
   ]
  }
 ],
 "metadata": {
  "kernelspec": {
   "display_name": "Python 3",
   "language": "python",
   "name": "python3"
  },
  "language_info": {
   "codemirror_mode": {
    "name": "ipython",
    "version": 3
   },
   "file_extension": ".py",
   "mimetype": "text/x-python",
   "name": "python",
   "nbconvert_exporter": "python",
   "pygments_lexer": "ipython3",
   "version": "3.6.2"
  }
 },
 "nbformat": 4,
 "nbformat_minor": 2
}

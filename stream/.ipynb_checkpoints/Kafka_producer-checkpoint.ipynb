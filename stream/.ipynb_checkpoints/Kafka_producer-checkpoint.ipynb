{
 "cells": [
  {
   "cell_type": "code",
   "execution_count": 1,
   "metadata": {
    "collapsed": true
   },
   "outputs": [],
   "source": [
    "import json\n",
    "import tweepy\n",
    "import time\n",
    "import configparser\n",
    "from datetime import datetime\n",
    "from kafka import KafkaProducer\n",
    "from kafka.errors import KafkaError"
   ]
  },
  {
   "cell_type": "code",
   "execution_count": 7,
   "metadata": {},
   "outputs": [
    {
     "name": "stdout",
     "output_type": "stream",
     "text": [
      "b'\"RT @BleacherReport: TAKE FLIGHT. (via 1ashton.d/Instagram) https://t.co/tmNIJYEA5O\"'\n",
      "b'\"Prince William Commemorates 60th Anniversary of Battle of Britain Memorial Flight @RAFBBM\\\\u2026 https://t.co/9XWsU5HL1y https://t.co/IkWB3KAitx\"'\n",
      "b'\"RT @PhotosAdvices: Photographing Birds In Flight https://t.co/bN54iAMyn5 https://t.co/GCfrNZrlrY\"'\n",
      "b'\"SOURCE: Hearing Sonny Gray\\'s flight is making progress, but still not at the finish line. Both sides hope to have him in NY by gametime\"'\n",
      "b'\"RT @CTG_CEOGEH: Evening flight to Montana with @AnaSGrey. https://t.co/ZLiQRNdGRp\"'\n",
      "b'\"Deal Alert: JetBlue Flash Sale With Fares From $38 One-Way\\\\n\\\\nWant to see the latest flight deals as soon as they\\\\u2019re\\\\u2026 https://t.co/13UyaW0k0K\"'\n",
      "b'\"RT @ElaDaria: Yesterday sunset from dron\\'s flight. Baltic Sea https://t.co/jQcEckZ29y\"'\n",
      "b'\"Beautiful Bee Eater in flight with breakfast by Carlos Santero #photography #photo #\\\\u0444\\\\u043e\\\\u0442\\\\u043e\\\\u0433\\\\u0440\\\\u0430\\\\u0444\\\\u0438\\\\u0438 https://t.co/n8S8gjKKPG\"'\n",
      "b'\"@CHA_NNNNN @KeoneMadrid @_marimadrid @NBCWorldofDance Have a safe flight oppa~ \\\\u2764 please come back to Thailand again\"'\n",
      "b'\"RT @FoxNews: ADORABLE: A two-year-old boy brought some fun back to flying by fist-bumping all of the passengers on his flight. https://t.co\\\\u2026\"'\n",
      "b'\"RT @BleacherReport: TAKE FLIGHT. (via 1ashton.d/Instagram) https://t.co/tmNIJYEA5O\"'\n",
      "b'\"RT @AgendaOfEvil: #UK #Muslim who tried to smuggle bomb onto flight was let go: cops didn\\\\u2019t realize it was a working explosive https://t.co\\\\u2026\"'\n",
      "b'\"RT @swatic12: [ Handsome boy comes and sit next to me during flight ]\\\\n\\\\nHe: Hi\\\\n\\\\nMe: Don\\'t bother. I am sure you have a girfriend\"'\n"
     ]
    }
   ],
   "source": [
    "class TweeterStreamListener(tweepy.StreamListener):\n",
    "    \n",
    "    def __init__(self, api):\n",
    "        self.api = api\n",
    "        super(tweepy.StreamListener, self).__init__()\n",
    "        self.producer = KafkaProducer(bootstrap_servers='ip-172-31-19-70.ec2.internal:6667', value_serializer=lambda v: json.dumps(v))\n",
    "\n",
    "    def on_data(self, data):\n",
    "        msg = json.loads(data)[u'text']\n",
    "        msg = json.dumps(msg).encode('utf-8')\n",
    "        #print(msg)\n",
    "        try:\n",
    "            self.producer.send('demo', msg)\n",
    "        except KafkaError:\n",
    "            log.exception()\n",
    "            pass\n",
    "        except Exception as e:\n",
    "            print(e)\n",
    "            return False\n",
    "        return True\n",
    "\n",
    "    def on_error(self, status_code):\n",
    "        if status_code == 420:\n",
    "            #returning False in on_data disconnects the stream\n",
    "            return False\n",
    "        print(\"Error received in kafka producer\")\n",
    "        print(status_code)\n",
    "        return True\n",
    "\n",
    "    def on_timeout(self):\n",
    "        return True \n",
    "    \n",
    "if __name__ == '__main__':\n",
    "\n",
    "    # Get the authorization keys\n",
    "    config = configparser.ConfigParser()\n",
    "    config.read_file(open('/home/ec2-user/datapipeline/stream/twitter-app-credentials'))\n",
    "    #consumer_key = config.defaults()['consumerkey']\n",
    "    consumer_key = 'z5lTf3sAbJDjGnGFsRFcvv1MK'\n",
    "    consumer_secret = 'HbXFtsDHCuFllDI2MBhxjUThK0Yv96JuPzn3lf3aHmVNpZCI0V'\n",
    "    access_key = '852055580361588736-vN0Fn0AjT7zCnRZ4Ljj7pQc4r06dtGd'\n",
    "    access_secret = 'JZlVDeK9PDJhlj0ndJrDGLoYD9q4JmtZBBmZsLFYEE1V7'\n",
    "    #consumer_secret = config.defaults()['consumersecret']\n",
    "    #access_key = config.defaults()['accesstoken']\n",
    "    #access_secret = config.defaults()['accesstokensecret']\n",
    "\n",
    "    # Call twitter api using Tweepy\n",
    "    auth = tweepy.OAuthHandler(consumer_key, consumer_secret)\n",
    "    auth.set_access_token(access_key, access_secret)\n",
    "    api = tweepy.API(auth)\n",
    "        \n",
    "    # Start listening\n",
    "    listener_twitter = TweeterStreamListener(api)\n",
    "    stream = tweepy.Stream(auth, listener = listener_twitter)\n",
    "    \n",
    "    # Filter tweets\n",
    "    stream.filter(track=['flight', 'aviation'], languages = ['en'], async=True)"
   ]
  }
 ],
 "metadata": {
  "kernelspec": {
   "display_name": "Python 3",
   "language": "python",
   "name": "python3"
  },
  "language_info": {
   "codemirror_mode": {
    "name": "ipython",
    "version": 3
   },
   "file_extension": ".py",
   "mimetype": "text/x-python",
   "name": "python",
   "nbconvert_exporter": "python",
   "pygments_lexer": "ipython3",
   "version": "3.6.2"
  }
 },
 "nbformat": 4,
 "nbformat_minor": 2
}
